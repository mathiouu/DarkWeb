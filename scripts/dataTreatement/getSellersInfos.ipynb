{
 "metadata": {
  "language_info": {
   "codemirror_mode": {
    "name": "ipython",
    "version": 3
   },
   "file_extension": ".py",
   "mimetype": "text/x-python",
   "name": "python",
   "nbconvert_exporter": "python",
   "pygments_lexer": "ipython3",
   "version": "3.9.1-final"
  },
  "orig_nbformat": 2,
  "kernelspec": {
   "name": "python3",
   "display_name": "Python 3",
   "language": "python"
  }
 },
 "nbformat": 4,
 "nbformat_minor": 2,
 "cells": [
  {
   "source": [],
   "cell_type": "markdown",
   "metadata": {}
  },
  {
   "source": [
    "Nous allons nettoyer les données et récupérer les informations importantes.\n",
    "## Nettoyage\n",
    "Nous gardons les colonnes qui nous intéressent: \n",
    "- vendor\n",
    "- description\n",
    "- sales\n",
    "- lvl\n",
    "- trust\n",
    "- member_since\n",
    "- disputes_orders\n",
    "et nous enlevons les valeurs NaN"
   ],
   "cell_type": "markdown",
   "metadata": {
    "tags": []
   }
  },
  {
   "cell_type": "code",
   "execution_count": 1,
   "metadata": {
    "tags": []
   },
   "outputs": [
    {
     "output_type": "execute_result",
     "data": {
      "text/plain": [
       "       vendor   sales             lvl          trust member_since  \\\n",
       "0     0ctopus   (342)  Vendor level 5  Trust level 5   2019-04-28   \n",
       "1        0hp1  (1162)  Vendor level 7  Trust level 7   2019-04-24   \n",
       "2   123pharma  (1268)  Vendor level 5  Trust level 5   2020-03-22   \n",
       "3  1800empire   (214)  Vendor level 4  Trust level 3   2020-01-10   \n",
       "4       19911  (1680)  Vendor level 2  Trust level 1   2019-04-24   \n",
       "\n",
       "  disputes_orders  \n",
       "0           0 / 0  \n",
       "1           0 / 0  \n",
       "2           0 / 0  \n",
       "3           0 / 0  \n",
       "4           0 / 9  "
      ],
      "text/html": "<div>\n<style scoped>\n    .dataframe tbody tr th:only-of-type {\n        vertical-align: middle;\n    }\n\n    .dataframe tbody tr th {\n        vertical-align: top;\n    }\n\n    .dataframe thead th {\n        text-align: right;\n    }\n</style>\n<table border=\"1\" class=\"dataframe\">\n  <thead>\n    <tr style=\"text-align: right;\">\n      <th></th>\n      <th>vendor</th>\n      <th>sales</th>\n      <th>lvl</th>\n      <th>trust</th>\n      <th>member_since</th>\n      <th>disputes_orders</th>\n    </tr>\n  </thead>\n  <tbody>\n    <tr>\n      <th>0</th>\n      <td>0ctopus</td>\n      <td>(342)</td>\n      <td>Vendor level 5</td>\n      <td>Trust level 5</td>\n      <td>2019-04-28</td>\n      <td>0 / 0</td>\n    </tr>\n    <tr>\n      <th>1</th>\n      <td>0hp1</td>\n      <td>(1162)</td>\n      <td>Vendor level 7</td>\n      <td>Trust level 7</td>\n      <td>2019-04-24</td>\n      <td>0 / 0</td>\n    </tr>\n    <tr>\n      <th>2</th>\n      <td>123pharma</td>\n      <td>(1268)</td>\n      <td>Vendor level 5</td>\n      <td>Trust level 5</td>\n      <td>2020-03-22</td>\n      <td>0 / 0</td>\n    </tr>\n    <tr>\n      <th>3</th>\n      <td>1800empire</td>\n      <td>(214)</td>\n      <td>Vendor level 4</td>\n      <td>Trust level 3</td>\n      <td>2020-01-10</td>\n      <td>0 / 0</td>\n    </tr>\n    <tr>\n      <th>4</th>\n      <td>19911</td>\n      <td>(1680)</td>\n      <td>Vendor level 2</td>\n      <td>Trust level 1</td>\n      <td>2019-04-24</td>\n      <td>0 / 9</td>\n    </tr>\n  </tbody>\n</table>\n</div>"
     },
     "metadata": {},
     "execution_count": 1
    }
   ],
   "source": [
    "import pandas as pd\n",
    "import numpy as np\n",
    "\n",
    "sellersDf = pd.read_csv('../../data/seller_duplicates_drop.csv', delimiter=\";\")\n",
    "sellers = sellersDf.copy()\n",
    "collums_to_drop =[ 'fe_allowed', 'percent_posfb',\n",
    "       'fb_1Pos', 'fb_6Pos', 'fb_12Pos', 'fb_1Neu', 'fb_6Neu', 'fb_12Neu',\n",
    "       'fb_1Neg', 'fb_6Neg', 'fb_12Neg', 'last', 'fb_left',\n",
    "       'spendings', 'pgp', 'file', 'crawling_date']\n",
    "sellers = sellers.drop(columns = collums_to_drop, axis=1)\n",
    "sellers = sellers.drop(columns=['description'], axis=1)\n",
    "sellers = sellers.dropna(subset=['trust'])\n",
    "sellers['member_since'] =  pd.to_datetime(sellers['member_since'], format='%B %d, %Y')\n",
    "sellers.head()"
   ]
  },
  {
   "cell_type": "code",
   "execution_count": 2,
   "metadata": {
    "tags": []
   },
   "outputs": [
    {
     "output_type": "execute_result",
     "data": {
      "text/plain": [
       "              sales          lvl        trust\n",
       "count   2853.000000  2853.000000  2853.000000\n",
       "mean    1091.132843     3.732562     3.441991\n",
       "std     2844.433360     2.363744     2.431650\n",
       "min        0.000000     0.000000     0.000000\n",
       "25%       35.000000     1.000000     1.000000\n",
       "50%      223.000000     4.000000     3.000000\n",
       "75%      911.000000     6.000000     6.000000\n",
       "max    40464.000000     9.000000     9.000000"
      ],
      "text/html": "<div>\n<style scoped>\n    .dataframe tbody tr th:only-of-type {\n        vertical-align: middle;\n    }\n\n    .dataframe tbody tr th {\n        vertical-align: top;\n    }\n\n    .dataframe thead th {\n        text-align: right;\n    }\n</style>\n<table border=\"1\" class=\"dataframe\">\n  <thead>\n    <tr style=\"text-align: right;\">\n      <th></th>\n      <th>sales</th>\n      <th>lvl</th>\n      <th>trust</th>\n    </tr>\n  </thead>\n  <tbody>\n    <tr>\n      <th>count</th>\n      <td>2853.000000</td>\n      <td>2853.000000</td>\n      <td>2853.000000</td>\n    </tr>\n    <tr>\n      <th>mean</th>\n      <td>1091.132843</td>\n      <td>3.732562</td>\n      <td>3.441991</td>\n    </tr>\n    <tr>\n      <th>std</th>\n      <td>2844.433360</td>\n      <td>2.363744</td>\n      <td>2.431650</td>\n    </tr>\n    <tr>\n      <th>min</th>\n      <td>0.000000</td>\n      <td>0.000000</td>\n      <td>0.000000</td>\n    </tr>\n    <tr>\n      <th>25%</th>\n      <td>35.000000</td>\n      <td>1.000000</td>\n      <td>1.000000</td>\n    </tr>\n    <tr>\n      <th>50%</th>\n      <td>223.000000</td>\n      <td>4.000000</td>\n      <td>3.000000</td>\n    </tr>\n    <tr>\n      <th>75%</th>\n      <td>911.000000</td>\n      <td>6.000000</td>\n      <td>6.000000</td>\n    </tr>\n    <tr>\n      <th>max</th>\n      <td>40464.000000</td>\n      <td>9.000000</td>\n      <td>9.000000</td>\n    </tr>\n  </tbody>\n</table>\n</div>"
     },
     "metadata": {},
     "execution_count": 2
    }
   ],
   "source": [
    "\n",
    "import re\n",
    "def remove_parentheses(text):\n",
    "       clean = re.match('\\\\((.*)\\\\)',str(text))\n",
    "       return clean.groups()[0]\n",
    "\n",
    "\n",
    "def remove_vendor_trst_level(text):\n",
    "       clean = re.match('(.*)(\\\\d)',str(text))\n",
    "       return clean.groups()[1]\n",
    "\n",
    "\n",
    "\n",
    "\n",
    "sellers['lvl'] = sellers['lvl'].apply(remove_vendor_trst_level)\n",
    "sellers['trust'] = sellers['trust'].apply(remove_vendor_trst_level)\n",
    "sellers['sales'] = sellers['sales'].apply(remove_parentheses)\n",
    "sellers.sales = sellers.sales.astype(int)\n",
    "sellers.lvl = sellers.lvl.astype(int)\n",
    "sellers.trust = sellers.trust.astype(int)\n",
    "sellers.vendor = sellers.vendor.astype(str)\n",
    "sellers.describe()\n"
   ]
  },
  {
   "source": [
    "Nous devons maintenant récupérer les vendeurs les plus populaires.\n",
    "\n",
    "Nous allons utiliser une formule avec des coefficients complètements arbitraires.\n",
    "\n",
    "$ 2*sales + 3*trust + 0.5*money\\_made = Popularity $\n"
   ],
   "cell_type": "markdown",
   "metadata": {}
  },
  {
   "cell_type": "code",
   "execution_count": 3,
   "metadata": {},
   "outputs": [],
   "source": [
    "import numpy as np\n",
    "products_sells = pd.read_csv('../../data/list_duplicates_drop.csv', delimiter=\";\")\n",
    "collums_to_drop = ['product_category', 'product_url', 'product_title',\n",
    "       'product_id_subcategory', 'product_views_sales_quantityleft',\n",
    "       'vendor_url', 'BTC', 'file', 'crawling_date']\n",
    "\n",
    "products_sells = products_sells.drop(columns=collums_to_drop)\n",
    "def cleanUsdColumn(text):\n",
    "    return text.replace(',','')\n",
    "products_sells =products_sells.dropna()\n",
    "products_sells['USD'] = products_sells['USD'].apply(cleanUsdColumn)\n",
    "products_sells['USD'] = products_sells['USD'].astype(float)\n",
    "products_sells.head()\n",
    "\n",
    "new_products_sells = products_sells.groupby('vendor').agg({'USD': ['sum']}).reset_index()\n",
    "\n",
    "new_products_sells.columns = ['vendor', 'total']\n",
    "new_products_sells.head()\n",
    "new_products_sells.describe()\n",
    "sellers = sellers.merge(new_products_sells, on='vendor')\n",
    "sellers.to_csv(r'../../data/sellers.csv', index = False)\n",
    "\n"
   ]
  },
  {
   "cell_type": "code",
   "execution_count": null,
   "metadata": {},
   "outputs": [],
   "source": []
  }
 ]
}