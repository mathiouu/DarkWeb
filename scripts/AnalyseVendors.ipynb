{
 "metadata": {
  "language_info": {
   "codemirror_mode": {
    "name": "ipython",
    "version": 3
   },
   "file_extension": ".py",
   "mimetype": "text/x-python",
   "name": "python",
   "nbconvert_exporter": "python",
   "pygments_lexer": "ipython3",
   "version": "3.9.1-final"
  },
  "orig_nbformat": 2,
  "kernelspec": {
   "name": "python3",
   "display_name": "Python 3",
   "language": "python"
  }
 },
 "nbformat": 4,
 "nbformat_minor": 2,
 "cells": [
  {
   "source": [
    "Nous avons maintenant les vendeurs \n",
    "\n",
    "vendor,sales,lvl,trust,member_sinve,disputes_orders,total\n",
    "\n",
    "Nous devons maintenant récupérer les vendeurs les plus populaires.(top 10%)\n",
    "\n",
    "Nous allons utiliser une formule avec des coefficients complètements arbitraires.\n",
    "\n",
    "$ 2*sales + 3*trust + 0.5*money\\_made = Popularity $\n"
   ],
   "cell_type": "markdown",
   "metadata": {}
  },
  {
   "cell_type": "code",
   "execution_count": 14,
   "metadata": {},
   "outputs": [
    {
     "output_type": "stream",
     "name": "stdout",
     "text": [
      "              vendor  sales  lvl  trust member_since disputes_orders  \\\n1903       budsbunny   4721    7      7   2019-04-23           0 / 1   \n2061  einsteingroup2   6270    7      7   2019-05-18           0 / 1   \n1902    budsanddrugs    485    7      7   2019-04-23           0 / 1   \n2033      drugkingDE   3182    7      7   2019-05-29           0 / 0   \n2690   tripwirewiki2   3576    7      7   2019-03-31           0 / 0   \n...              ...    ...  ...    ...          ...             ...   \n584     FirebunnyUSA   8521    9      9   2019-09-16           0 / 7   \n1652       UKNEXTDAY   4789    9      9   2019-06-29           0 / 0   \n1811        auspride   6522    9      9   2019-02-04           0 / 1   \n1848       bestmates    197    4      3   2019-12-02          2 / 31   \n1472      THCFarmer1   8722    4      4   2020-05-12           0 / 0   \n\n             total    popularity  \n1903  7.643100e+03  2.100058e+08  \n2061  1.179670e+03  2.100059e+08  \n1902  2.748703e+04  2.100059e+08  \n2033  1.561633e+04  2.100060e+08  \n2690  1.394878e+04  2.100060e+08  \n...            ...           ...  \n584   2.538881e+05  2.700584e+08  \n1652  3.466028e+05  2.700736e+08  \n1811  6.055086e+05  2.701270e+08  \n1848  3.006707e+09  6.913416e+08  \n1472  1.044842e+11  2.101685e+10  \n\n[258 rows x 8 columns]\n"
     ]
    }
   ],
   "source": [
    "import pandas as pd\n",
    "\n",
    "sellers =pd.read_csv('../data/sellers.csv')\n",
    "\n",
    "def setPopularity(row):\n",
    "    return 0.9*float(row['sales'])+30000000*float(row['trust'])+0.2*float(row['total'])\n",
    "sellers['popularity'] = sellers.apply (lambda row: setPopularity(row), axis=1)\n",
    "\n",
    "\n",
    "newSellers = sellers.nlargest(258,'popularity')\n",
    "print(newSellers.sort_values(by='popularity', ascending=False))\n",
    "\n",
    "newSellers.to_csv(r'../data/famousSellers.csv', index = False)"
   ]
  },
  {
   "cell_type": "code",
   "execution_count": null,
   "metadata": {},
   "outputs": [],
   "source": []
  }
 ]
}