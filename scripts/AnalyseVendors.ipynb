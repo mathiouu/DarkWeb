{
 "metadata": {
  "language_info": {
   "codemirror_mode": {
    "name": "ipython",
    "version": 3
   },
   "file_extension": ".py",
   "mimetype": "text/x-python",
   "name": "python",
   "nbconvert_exporter": "python",
   "pygments_lexer": "ipython3",
   "version": "3.8.5-final"
  },
  "orig_nbformat": 2,
  "kernelspec": {
   "name": "python3",
   "display_name": "Python 3",
   "language": "python"
  }
 },
 "nbformat": 4,
 "nbformat_minor": 2,
 "cells": [
  {
   "source": [
    "Nous avons maintenant les vendeurs \n",
    "\n",
    "vendor,sales,lvl,trust,member_sinve,disputes_orders,total\n",
    "\n",
    "Nous devons maintenant récupérer les vendeurs les plus populaires.(top 10%)\n",
    "\n",
    "Nous allons utiliser une formule avec des coefficients complètements arbitraires.\n",
    "\n",
    "$ 2*sales + 3*trust + 0.5*money\\_made = Popularity $\n"
   ],
   "cell_type": "markdown",
   "metadata": {}
  },
  {
   "cell_type": "code",
   "execution_count": 1,
   "metadata": {},
   "outputs": [
    {
     "output_type": "stream",
     "name": "stdout",
     "text": [
      "              vendor  sales  lvl  trust member_since disputes_orders  \\\n1472      THCFarmer1   8722    4      4   2020-05-12           0 / 0   \n1848       bestmates    197    4      3   2019-12-02          2 / 31   \n1811        auspride   6522    9      9   2019-02-04           0 / 1   \n1652       UKNEXTDAY   4789    9      9   2019-06-29           0 / 0   \n584     FirebunnyUSA   8521    9      9   2019-09-16           0 / 7   \n...              ...    ...  ...    ...          ...             ...   \n2690   tripwirewiki2   3576    7      7   2019-03-31           0 / 0   \n2033      drugkingDE   3182    7      7   2019-05-29           0 / 0   \n1902    budsanddrugs    485    7      7   2019-04-23           0 / 1   \n2061  einsteingroup2   6270    7      7   2019-05-18           0 / 1   \n1903       budsbunny   4721    7      7   2019-04-23           0 / 1   \n\n             total    popularity  \n1472  1.044842e+11  2.101685e+10  \n1848  3.006707e+09  6.913416e+08  \n1811  6.055086e+05  2.701270e+08  \n1652  3.466028e+05  2.700736e+08  \n584   2.538881e+05  2.700584e+08  \n...            ...           ...  \n2690  1.394878e+04  2.100060e+08  \n2033  1.561633e+04  2.100060e+08  \n1902  2.748703e+04  2.100059e+08  \n2061  1.179670e+03  2.100059e+08  \n1903  7.643100e+03  2.100058e+08  \n\n[258 rows x 8 columns]\n"
     ]
    }
   ],
   "source": [
    "import pandas as pd\n",
    "\n",
    "sellers = pd.read_csv('../data/sellers.csv')\n",
    "\n",
    "def setPopularity(row):\n",
    "    return 0.9*float(row['sales'])+30000000*float(row['trust'])+0.2*float(row['total'])\n",
    "sellers['popularity'] = sellers.apply (lambda row: setPopularity(row), axis=1)\n",
    "\n",
    "\n",
    "newSellers = sellers.nlargest(258,'popularity')\n",
    "print(newSellers.sort_values(by='popularity', ascending=False))\n",
    "\n",
    "newSellers.to_csv(r'../data/famousSellers.csv', index = False)"
   ]
  },
  {
   "source": [
    "Maintenant que nous avons les vendeurs les plus rentables.\n",
    "\n",
    "Voyons ce qu'ils ont en commun.\n",
    "\n",
    "Regardons d'abord leurs catégories\n"
   ],
   "cell_type": "markdown",
   "metadata": {}
  },
  {
   "cell_type": "code",
   "execution_count": 2,
   "metadata": {},
   "outputs": [
    {
     "output_type": "execute_result",
     "data": {
      "text/plain": [
       "     product_category       vendor\n",
       "0  Guides & Tutorials  DrunkDragon\n",
       "1               Fraud     drhack3r\n",
       "2               Fraud     drhack3r\n",
       "3   Drugs & Chemicals      localRX\n",
       "4   Drugs & Chemicals      localRX"
      ],
      "text/html": "<div>\n<style scoped>\n    .dataframe tbody tr th:only-of-type {\n        vertical-align: middle;\n    }\n\n    .dataframe tbody tr th {\n        vertical-align: top;\n    }\n\n    .dataframe thead th {\n        text-align: right;\n    }\n</style>\n<table border=\"1\" class=\"dataframe\">\n  <thead>\n    <tr style=\"text-align: right;\">\n      <th></th>\n      <th>product_category</th>\n      <th>vendor</th>\n    </tr>\n  </thead>\n  <tbody>\n    <tr>\n      <th>0</th>\n      <td>Guides &amp; Tutorials</td>\n      <td>DrunkDragon</td>\n    </tr>\n    <tr>\n      <th>1</th>\n      <td>Fraud</td>\n      <td>drhack3r</td>\n    </tr>\n    <tr>\n      <th>2</th>\n      <td>Fraud</td>\n      <td>drhack3r</td>\n    </tr>\n    <tr>\n      <th>3</th>\n      <td>Drugs &amp; Chemicals</td>\n      <td>localRX</td>\n    </tr>\n    <tr>\n      <th>4</th>\n      <td>Drugs &amp; Chemicals</td>\n      <td>localRX</td>\n    </tr>\n  </tbody>\n</table>\n</div>"
     },
     "metadata": {},
     "execution_count": 2
    }
   ],
   "source": [
    "categories_sellers=pd.read_csv('../data/r_list_duplicates_drop.csv',delimiter=\";\")\n",
    "collums_to_drop = ['product_url','product_id_subcategory', 'product_views_sales_quantityleft','vendor_url', 'USD', 'BTC', 'file' ,'crawling_date','product_title']\n",
    "categories_sellers = categories_sellers.drop(columns =collums_to_drop,axis=1)\n",
    "categories_sellers.head()\n"
   ]
  },
  {
   "cell_type": "code",
   "execution_count": 3,
   "metadata": {
    "tags": []
   },
   "outputs": [
    {
     "output_type": "execute_result",
     "data": {
      "text/plain": [
       "         vendor  sales  lvl  trust member_since disputes_orders         total  \\\n",
       "0    THCFarmer1   8722    4      4   2020-05-12           0 / 0  1.044842e+11   \n",
       "7    THCFarmer1   8722    4      4   2020-05-12           0 / 0  1.044842e+11   \n",
       "244  THCFarmer1   8722    4      4   2020-05-12           0 / 0  1.044842e+11   \n",
       "250  THCFarmer1   8722    4      4   2020-05-12           0 / 0  1.044842e+11   \n",
       "257   bestmates    197    4      3   2019-12-02          2 / 31  3.006707e+09   \n",
       "\n",
       "       popularity    product_category  \n",
       "0    2.101685e+10    Digital Products  \n",
       "7    2.101685e+10  Security & Hosting  \n",
       "244  2.101685e+10   Drugs & Chemicals  \n",
       "250  2.101685e+10               Fraud  \n",
       "257  6.913416e+08   Drugs & Chemicals  "
      ],
      "text/html": "<div>\n<style scoped>\n    .dataframe tbody tr th:only-of-type {\n        vertical-align: middle;\n    }\n\n    .dataframe tbody tr th {\n        vertical-align: top;\n    }\n\n    .dataframe thead th {\n        text-align: right;\n    }\n</style>\n<table border=\"1\" class=\"dataframe\">\n  <thead>\n    <tr style=\"text-align: right;\">\n      <th></th>\n      <th>vendor</th>\n      <th>sales</th>\n      <th>lvl</th>\n      <th>trust</th>\n      <th>member_since</th>\n      <th>disputes_orders</th>\n      <th>total</th>\n      <th>popularity</th>\n      <th>product_category</th>\n    </tr>\n  </thead>\n  <tbody>\n    <tr>\n      <th>0</th>\n      <td>THCFarmer1</td>\n      <td>8722</td>\n      <td>4</td>\n      <td>4</td>\n      <td>2020-05-12</td>\n      <td>0 / 0</td>\n      <td>1.044842e+11</td>\n      <td>2.101685e+10</td>\n      <td>Digital Products</td>\n    </tr>\n    <tr>\n      <th>7</th>\n      <td>THCFarmer1</td>\n      <td>8722</td>\n      <td>4</td>\n      <td>4</td>\n      <td>2020-05-12</td>\n      <td>0 / 0</td>\n      <td>1.044842e+11</td>\n      <td>2.101685e+10</td>\n      <td>Security &amp; Hosting</td>\n    </tr>\n    <tr>\n      <th>244</th>\n      <td>THCFarmer1</td>\n      <td>8722</td>\n      <td>4</td>\n      <td>4</td>\n      <td>2020-05-12</td>\n      <td>0 / 0</td>\n      <td>1.044842e+11</td>\n      <td>2.101685e+10</td>\n      <td>Drugs &amp; Chemicals</td>\n    </tr>\n    <tr>\n      <th>250</th>\n      <td>THCFarmer1</td>\n      <td>8722</td>\n      <td>4</td>\n      <td>4</td>\n      <td>2020-05-12</td>\n      <td>0 / 0</td>\n      <td>1.044842e+11</td>\n      <td>2.101685e+10</td>\n      <td>Fraud</td>\n    </tr>\n    <tr>\n      <th>257</th>\n      <td>bestmates</td>\n      <td>197</td>\n      <td>4</td>\n      <td>3</td>\n      <td>2019-12-02</td>\n      <td>2 / 31</td>\n      <td>3.006707e+09</td>\n      <td>6.913416e+08</td>\n      <td>Drugs &amp; Chemicals</td>\n    </tr>\n  </tbody>\n</table>\n</div>"
     },
     "metadata": {},
     "execution_count": 3
    }
   ],
   "source": [
    "import matplotlib\n",
    "\n",
    "newSellers = newSellers.merge(categories_sellers, on='vendor')\n",
    "#new_cat = categories_sellers.groupby('product_category').count().reset_index()\n",
    "#new_cat = categories_sellers.groupby(['vendor','product_category']).count().reset_index()\n",
    "\n",
    "#df2 =categories_sellers.groupby(['product_category'])['vendor'].count()\n",
    "#print(new_cat)\n",
    "newSellers = newSellers.drop_duplicates()\n",
    "newSellers.head()"
   ]
  },
  {
   "cell_type": "code",
   "execution_count": 8,
   "metadata": {},
   "outputs": [
    {
     "output_type": "stream",
     "name": "stdout",
     "text": [
      "{('ARM', 5087, 8, 8, '2019-03-27', '0 / 0', 13423.62, 240007263.02400002): [7342], ('ActionEU', 1300, 7, 7, '2020-01-18', '0 / 0', 245411.78, 210050252.356): [9478], ('AmsterdamLXno1', 1791, 7, 7, '2019-04-22', '0 / 6', 36558.640000000014, 210008923.628): [13654, 13655, 13723], ('AmsterdamNL', 10809, 8, 8, '2019-04-23', '0 / 0', 339179.05000000005, 240077563.91): [2887], ('AndyMacht', 3375, 8, 8, '2019-04-04', '0 / 2', 88208.31, 240020679.162): [3916, 3976], ('Angelina', 5233, 7, 7, '2018-03-28', '0 / 0', 14820.929999999982, 210007673.88599998): [14398, 14424, 14476], ('AusMDMA', 1271, 7, 7, '2019-05-29', '0 / 0', 27044.849999999995, 210006552.87): [15194], ('BestBars', 429, 7, 7, '2019-04-22', '0 / 0', 88598.61999999998, 210018105.824): [11524, 11592], ('BobMollly', 5813, 7, 7, '2019-08-01', '0 / 0', 33532.240000000005, 210011938.148): [12511], ('BritishKnights', 7374, 7, 7, '2018-10-25', '0 / 0', 3169.92, 210007270.584): [14735], ('BritishStandard', 1241, 7, 7, '2019-06-05', '0 / 0', 89944.72, 210019105.844): [11298], ('BudEx', 8339, 9, 9, '2019-04-22', '0 / 0', 62161.7, 270019937.44): [1740], ('BudPlug', 3162, 9, 9, '2019-08-28', '0 / 0', 26452.960000000006, 270008136.392): [2382], ('CB2019', 4666, 9, 9, '2019-04-03', '0 / 0', 52455.69, 270014690.538): [2072, 2116], ('CYBERBRICKZ', 1221, 7, 7, '2019-04-25', '0 / 0', 33969.47, 210007892.794): [14237], ('CadillacBlack', 1872, 7, 7, '2019-03-30', '3 / 26', 32744.2, 210008233.64000002): [14167, 14190], ('CaliCanabisClub', 2749, 9, 9, '2019-05-11', '0 / 0', 41952.359999999986, 270010864.572): [2302], ('CaliCart', 3044, 7, 7, '2019-06-01', '0 / 0', 21982.98, 210007136.19599998): [14923, 14981], ('CaliTerps', 2437, 9, 9, '2019-05-16', '0 / 0', 20212.84, 270006235.86800003): [2447], ('Calimero_Coca', 3207, 7, 7, '2019-11-09', '0 / 0', 104541.74, 210023794.648): [11132, 11182], ('Cambridge20k', 4194, 8, 8, '2019-02-07', '0 / 0', 10572.13, 240005889.026): [7615], ('Candy_flakes', 2626, 8, 8, '2019-04-29', '0 / 0', 5235.230000000001, 240003410.446): [8368], ('CardingMaster', 7845, 9, 9, '2019-04-22', '0 / 0', 27.59, 270007066.018): [2412], ('CartEX', 3257, 8, 8, '2020-05-20', '0 / 1', 9316.170000000027, 240004794.534): [7988, 8034], ('CartKing', 2277, 8, 8, '2019-04-09', '0 / 0', 93177.5, 240020684.8): [3860], ('CheechandChongAB', 1531, 7, 7, '2018-02-14', '0 / 0', 204875.28, 210042352.956): [10405, 10413], ('ChuckNorrisTeam', 4447, 8, 8, '2019-04-03', '0 / 0', 195493.08999999997, 240043100.918): [3260, 3391], ('CocoParis', 5007, 8, 8, '2019-08-05', '0 / 6', 6056.13, 240005717.52600002): [7723], ('Coffeshop', 1912, 7, 7, '2019-05-27', '0 / 0', 22512.95, 210006223.39000002): [15579, 15613], ('Connectingbrit', 4583, 8, 8, '2019-03-30', '0 / 0', 50603.10999999997, 240014245.322): [4701], ('CottageIndustry', 5103, 8, 8, '2019-03-27', '0 / 0', 5529.260000000002, 240005698.552): [7752], ('CrystalKingdom', 672, 7, 7, '2019-05-11', '0 / 0', 41877.81000000001, 210008980.36200002): [13546], ('DUTCHTOPQUALITY', 2216, 7, 7, '2019-04-22', '1 / 9', 44252.10000000001, 210010844.82): [12752, 12785, 12801], ('Dank4Dayz', 6471, 9, 9, '2019-05-26', '0 / 0', 57447.09000000002, 270017313.31799996): [1949], ('DarkAngus', 9514, 9, 9, '2019-05-22', '0 / 5', 107970.10000000003, 270030156.62): [1332, 1394], ('DesignerCali', 1822, 7, 7, '2019-10-07', '0 / 10', 44307.12, 210010501.224): [13059], ('DeutschePost', 1517, 7, 7, '2019-07-12', '0 / 1', 84360.9, 210018237.48000002): [11505], ('District10', 5509, 8, 8, '2019-08-15', '0 / 0', 14466.159999999998, 240007851.332): [7176], ('DocParacelsus', 3512, 9, 9, '2019-02-18', '0 / 3', 15950.51, 270006350.902): [2424], ('DoktorSommer', 12536, 8, 8, '2019-04-21', '0 / 0', 870.9700000000003, 240011456.594): [5631, 5666], ('DonJuan', 4339, 7, 7, '2019-03-30', '0 / 0', 107504.44000000002, 210025405.988): [10838], ('DrBowman', 875, 7, 7, '2019-07-31', '0 / 2', 59558.309999999954, 210012699.162): [12144, 12154, 12305], ('DrParagon', 17219, 9, 9, '2019-03-27', '0 / 0', 7.56, 270015498.61200005): [2070], ('DrRelax', 1583, 8, 8, '2019-05-18', '0 / 0', 49697.33000000001, 240011364.16599998): [5667, 5695], ('DruggieBears', 3722, 8, 8, '2019-02-10', '0 / 0', 27851.24, 240008920.048): [6742], ('Drugkingz', 2637, 7, 7, '2019-07-28', '0 / 0', 33470.49, 210009067.398): [13503], ('DutchMastersUK', 5444, 8, 8, '2019-04-06', '0 / 0', 0.05, 240004899.60999998): [7983], ('EUROSHOPPER', 1357, 8, 8, '2019-04-21', '0 / 0', 45993.70000000001, 240010420.04000002): [6237], ('ElCokeCo', 1567, 7, 7, '2019-03-27', '0 / 0', 145752.38000000006, 210030560.77600002): [10771], ('Elminilic', 2722, 8, 8, '2019-04-18', '0 / 0', 1104.68, 240002670.736): [8457, 8468], ('EvolutionII', 4124, 9, 9, '2019-04-01', '0 / 0', 71034.87000000004, 270017918.574): [1831], ('ExoticsClub', 5239, 9, 9, '2019-06-17', '0 / 0', 18917.52, 270008498.60400003): [2349], ('F1RSTCLASS1', 8013, 8, 8, '2019-04-02', '0 / 0', 10463.810000000003, 240009304.46199998): [6666], ('FinestQualityDE', 7157, 8, 8, '2019-04-13', '0 / 0', 32021.08, 240012845.516): [5229], ('FirebunnyUSA', 8521, 9, 9, '2019-09-16', '0 / 7', 253888.12, 270058446.524): [628, 641, 658], ('FlavourStop', 1056, 7, 7, '2019-04-18', '0 / 4', 46063.52, 210010163.104): [13101], ('FunkyFarms', 1934, 7, 7, '2019-06-14', '0 / 0', 29692.32, 210007679.06399998): [14323], ('FunnyBones', 3335, 8, 8, '2020-01-22', '0 / 0', 1719.9399999999996, 240003345.488): [8387], ('GOVUK', 2892, 8, 8, '2019-10-31', '0 / 0', 74518.23999999999, 240017506.448): [4497], ('GearHeadz', 11385, 8, 8, '2019-06-14', '0 / 0', 8879.4, 240012022.38): [5410], ('GetHighUK', 5100, 7, 7, '2019-08-30', '0 / 0', 8343.309999999998, 210006258.662): [15518], ('GoldOilDrugs', 996, 7, 7, '2019-04-22', '0 / 0', 42610.79, 210009418.558): [13320], ('GreenBeansUSA', 2096, 9, 9, '2019-04-21', '0 / 5', 77064.38, 270017299.27599996): [2010], ('GreenCo', 4096, 8, 8, '2019-05-04', '0 / 0', 6135.259999999998, 240004913.452): [7966], ('GreenOutlet', 1663, 8, 8, '2019-05-11', '0 / 0', 81747.57999999997, 240017846.216): [4418], ('GreenService', 2163, 7, 7, '2019-03-28', '0 / 0', 32763.649999999994, 210008499.42999998): [14040], ('GrimReefer420', 2940, 8, 8, '2019-02-05', '0 / 0', 356.36, 240002717.272): [8451], ('GungaDin', 2070, 7, 7, '2019-05-19', '0 / 0', 41367.47, 210010136.494): [13149], ('HectorSalamanca', 2557, 9, 9, '2019-03-28', '0 / 5', 115367.27, 270025374.754): [1533], ('HeinekenExpress', 18570, 8, 8, '2018-02-08', '0 / 2', 587.43, 240016830.486): [4616, 4636], ('Heinsenburg', 2631, 8, 8, '2020-01-07', '0 / 1', 2357.4100000000008, 240002839.382): [8423], ('HiddenHands', 7885, 8, 8, '2018-02-20', '0 / 0', 2667.24, 240007629.948): [7206, 7222], ('HighGradeGreens', 4645, 7, 7, '2019-08-23', '0 / 0', 15640.480000000005, 210007308.596): [14569], ('Hornbach', 5167, 8, 8, '2019-04-08', '0 / 0', 16883.710000000006, 240008027.04200003): [7105], ('INSTAGRAMDM', 6124, 7, 7, '2019-05-03', '0 / 0', 6084.259999999998, 210006728.452): [15135], ('JOYinc', 3562, 8, 8, '2019-04-15', '0 / 0', 18266.840000000004, 240006859.168): [7438], ('Jerry_Garcia', 1891, 8, 8, '2019-07-27', '0 / 0', 42119.47, 240010125.794): [6528], ('KarmaLab', 1508, 7, 7, '2019-01-11', '0 / 0', 28999.739999999994, 210007157.148): [14871], ('KeepItFresh', 4173, 7, 7, '2019-04-04', '0 / 0', 44745.25000000001, 210012704.75): [12080], ('KidCannabis420', 961, 7, 7, '2019-11-06', '0 / 0', 30415.470000000005, 210006947.99400002): [15053], ('KingKush', 4799, 8, 8, '2019-04-21', '0 / 0', 1810.77, 240004681.254): [8086, 8098], ('LHEFE', 2052, 7, 7, '2019-04-25', '0 / 0', 34246.84, 210008696.168): [13892], ('Librarian', 1361, 8, 8, '2019-04-21', '0 / 0', 3202.65, 240001865.43): [8544], ('Lidl', 2651, 7, 7, '2019-04-03', '0 / 1', 18235.16, 210006032.932): [15641], ('LoudDirect', 1151, 7, 7, '2019-04-19', '0 / 0', 337088.25, 210068453.55): [9188], ('Luckyy7', 7944, 8, 8, '2019-03-28', '0 / 0', 26810.870000000006, 240012511.774): [5355], ('MAD_MAX', 8232, 8, 8, '2019-05-29', '0 / 0', 14354.88, 240010279.77600002): [6303], ('MagicLampCo', 3045, 8, 8, '2019-05-16', '0 / 4', 39608.94, 240010662.288): [6147], ('Magicblue', 6832, 8, 8, '2019-06-03', '0 / 0', 153672.71000000002, 240036883.342): [3659], ('MarksAndSpencer', 10464, 8, 8, '2018-04-07', '0 / 0', 61021.79000000001, 240021621.958): [3732], ('Mbappe2019', 4193, 8, 8, '2019-04-02', '0 / 0', 157.99, 240003805.29799998): [8329], ('Meds4u', 7404, 8, 8, '2019-03-30', '0 / 0', 937.3100000000003, 240006851.062): [7473], ('MethBusters', 3212, 7, 7, '2019-04-23', '0 / 0', 146563.1, 210032203.42000002): [10594, 10633], ('Mex_Connection', 1614, 8, 8, '2019-05-11', '0 / 0', 54778.25, 240012408.25): [5400, 5401], ('MisterMolly', 9024, 8, 8, '2019-03-30', '0 / 2', 532386.97, 240114598.994): [2607], ('MisterrX', 4450, 7, 7, '2019-04-23', '0 / 0', 199819.7, 210043968.94): [10225], ('MushieMushie', 2959, 8, 8, '2019-04-07', '0 / 0', 3445.77, 240003352.254): [8379], ('NARC0R0BBIE', 1263, 8, 8, '2019-04-24', '0 / 8', 45295.55, 240010195.81): [6371], ('NARCOTICSDIRECT', 3419, 8, 8, '2019-02-02', '0 / 2', 35470.24, 240010171.148): [6394, 6405], ('NancyBotwin2019', 4261, 9, 9, '2019-04-23', '0 / 0', 69079.11000000003, 270017650.722): [1896], ...}\n"
     ]
    }
   ],
   "source": [
    "print(newSellers.shape)\n",
    "print(newSellers.groupby(['vendor','sales','lvl','trust','member_since','disputes_orders','total','popularity']).groups)\n"
   ]
  },
  {
   "cell_type": "code",
   "execution_count": null,
   "metadata": {},
   "outputs": [],
   "source": []
  }
 ]
}