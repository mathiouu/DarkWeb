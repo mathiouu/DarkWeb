{
 "metadata": {
  "language_info": {
   "codemirror_mode": {
    "name": "ipython",
    "version": 3
   },
   "file_extension": ".py",
   "mimetype": "text/x-python",
   "name": "python",
   "nbconvert_exporter": "python",
   "pygments_lexer": "ipython3",
   "version": "3.9.1-final"
  },
  "orig_nbformat": 2,
  "kernelspec": {
   "name": "python3",
   "display_name": "Python 3.9.1 64-bit ('linuxvenv')",
   "metadata": {
    "interpreter": {
     "hash": "aaadbe2adcad251c2d5d4e74abe7e1dba726161722a9acee42c6b1cdfca67407"
    }
   }
  }
 },
 "nbformat": 4,
 "nbformat_minor": 2,
 "cells": [
  {
   "cell_type": "code",
   "execution_count": 98,
   "metadata": {},
   "outputs": [
    {
     "output_type": "stream",
     "name": "stdout",
     "text": [
      "                USD\ncount  1.100000e+01\nmean   6.241287e+06\nstd    1.865747e+07\nmin    2.154697e+04\n25%    1.189947e+05\n50%    2.706207e+05\n75%    1.499256e+06\nmax    6.246088e+07\n"
     ]
    }
   ],
   "source": [
    "import pandas as pd\n",
    "import re\n",
    "\n",
    "product_list = pd.read_csv('../data/list_duplicates_drop.csv',delimiter=\";\")\n",
    "\n",
    "column_to_drop = ['product_url','product_views_sales_quantityleft','vendor','vendor_url','BTC','file','crawling_date']\n",
    "\n",
    "def clean_Category(text):\n",
    "    clean = text.strip()\n",
    "    clean=re.match('(\\\\W*)(.+)(\\\\s*)',str(clean))\n",
    "    return clean.groups()[1]\n",
    "\n",
    "def cleanUsdColumn(text):\n",
    "    return str(text).replace(',','')\n",
    "    \n",
    "clean_product_list = product_list.drop(columns=column_to_drop,axis=1)\n",
    "\n",
    "clean_product_list['product_category'] = clean_product_list['product_category'].apply(clean_Category)\n",
    "clean_product_list['USD'] = clean_product_list['USD'].apply(cleanUsdColumn)\n",
    "clean_product_list['USD'] = clean_product_list['USD'].astype(float)\n",
    "index = clean_product_list[clean_product_list['USD'] > 1000000].index\n",
    "clean_product_list.drop(index,inplace=True)\n",
    "\n",
    "#print(clean_product_list.describe())\n",
    "top_categories =clean_product_list\n",
    "\n",
    "total_usd_by_categories = top_categories.groupby(by=\"product_category\").agg({'USD':'sum'}).reset_index()\n",
    "total_sells_by_categories = top_categories[['product_category','USD']].groupby(by=\"product_category\").count().reset_index()\n",
    "print(total_usd_by_categories.describe())\n",
    "total_sells_by_categories.to_csv(r'../data/total_sells_by_categories.csv', index = False)\n",
    "\n",
    "total_usd_by_categories.to_csv(r'../data/total_usd_by_categories.csv', index = False)\n",
    "\n",
    "# tvec = TfidfVectorizer(min_df =.0025, max_df= 0.1, stop_words='english',ngram_range=(1,2))\n",
    "\n",
    "# tvec_weights = tvec.fit_transform()"
   ]
  },
  {
   "cell_type": "code",
   "execution_count": 100,
   "metadata": {
    "tags": []
   },
   "outputs": [
    {
     "output_type": "error",
     "ename": "KeyError",
     "evalue": "('product_category', 'product_id_subcategory', 'USD')",
     "traceback": [
      "\u001b[0;31m---------------------------------------------------------------------------\u001b[0m",
      "\u001b[0;31mKeyError\u001b[0m                                  Traceback (most recent call last)",
      "\u001b[0;32m/mnt/c/Users/sebas/cours/Master2/Analyse-Reseau/projetDarkWeb/DarkWeb/linuxvenv/lib/python3.9/site-packages/pandas/core/indexes/base.py\u001b[0m in \u001b[0;36mget_loc\u001b[0;34m(self, key, method, tolerance)\u001b[0m\n\u001b[1;32m   2897\u001b[0m             \u001b[0;32mtry\u001b[0m\u001b[0;34m:\u001b[0m\u001b[0;34m\u001b[0m\u001b[0;34m\u001b[0m\u001b[0m\n\u001b[0;32m-> 2898\u001b[0;31m                 \u001b[0;32mreturn\u001b[0m \u001b[0mself\u001b[0m\u001b[0;34m.\u001b[0m\u001b[0m_engine\u001b[0m\u001b[0;34m.\u001b[0m\u001b[0mget_loc\u001b[0m\u001b[0;34m(\u001b[0m\u001b[0mcasted_key\u001b[0m\u001b[0;34m)\u001b[0m\u001b[0;34m\u001b[0m\u001b[0;34m\u001b[0m\u001b[0m\n\u001b[0m\u001b[1;32m   2899\u001b[0m             \u001b[0;32mexcept\u001b[0m \u001b[0mKeyError\u001b[0m \u001b[0;32mas\u001b[0m \u001b[0merr\u001b[0m\u001b[0;34m:\u001b[0m\u001b[0;34m\u001b[0m\u001b[0;34m\u001b[0m\u001b[0m\n",
      "\u001b[0;32mpandas/_libs/index.pyx\u001b[0m in \u001b[0;36mpandas._libs.index.IndexEngine.get_loc\u001b[0;34m()\u001b[0m\n",
      "\u001b[0;32mpandas/_libs/index.pyx\u001b[0m in \u001b[0;36mpandas._libs.index.IndexEngine.get_loc\u001b[0;34m()\u001b[0m\n",
      "\u001b[0;32mpandas/_libs/hashtable_class_helper.pxi\u001b[0m in \u001b[0;36mpandas._libs.hashtable.PyObjectHashTable.get_item\u001b[0;34m()\u001b[0m\n",
      "\u001b[0;32mpandas/_libs/hashtable_class_helper.pxi\u001b[0m in \u001b[0;36mpandas._libs.hashtable.PyObjectHashTable.get_item\u001b[0;34m()\u001b[0m\n",
      "\u001b[0;31mKeyError\u001b[0m: ('product_category', 'product_id_subcategory', 'USD')",
      "\nThe above exception was the direct cause of the following exception:\n",
      "\u001b[0;31mKeyError\u001b[0m                                  Traceback (most recent call last)",
      "\u001b[0;32m<ipython-input-100-6c47144b4253>\u001b[0m in \u001b[0;36m<module>\u001b[0;34m\u001b[0m\n\u001b[1;32m     15\u001b[0m \u001b[0;34m\u001b[0m\u001b[0m\n\u001b[1;32m     16\u001b[0m \u001b[0mtotal_usd_by_sub_categories\u001b[0m \u001b[0;34m=\u001b[0m \u001b[0mall_sub_categories\u001b[0m\u001b[0;34m.\u001b[0m\u001b[0mgroupby\u001b[0m\u001b[0;34m(\u001b[0m\u001b[0mby\u001b[0m\u001b[0;34m=\u001b[0m\u001b[0;34m[\u001b[0m\u001b[0;34m'product_category'\u001b[0m\u001b[0;34m,\u001b[0m\u001b[0;34m'product_id_subcategory'\u001b[0m\u001b[0;34m]\u001b[0m\u001b[0;34m)\u001b[0m\u001b[0;34m.\u001b[0m\u001b[0magg\u001b[0m\u001b[0;34m(\u001b[0m\u001b[0;34m{\u001b[0m\u001b[0;34m'USD'\u001b[0m\u001b[0;34m:\u001b[0m\u001b[0;34m'sum'\u001b[0m\u001b[0;34m}\u001b[0m\u001b[0;34m)\u001b[0m\u001b[0;34m.\u001b[0m\u001b[0mreset_index\u001b[0m\u001b[0;34m(\u001b[0m\u001b[0;34m)\u001b[0m\u001b[0;34m\u001b[0m\u001b[0;34m\u001b[0m\u001b[0m\n\u001b[0;32m---> 17\u001b[0;31m \u001b[0mtotal_sells_by_sub_categories\u001b[0m \u001b[0;34m=\u001b[0m \u001b[0mall_sub_categories\u001b[0m\u001b[0;34m[\u001b[0m\u001b[0;34m'product_category'\u001b[0m\u001b[0;34m,\u001b[0m\u001b[0;34m'product_id_subcategory'\u001b[0m\u001b[0;34m,\u001b[0m\u001b[0;34m'USD'\u001b[0m\u001b[0;34m]\u001b[0m\u001b[0;34m.\u001b[0m\u001b[0mgroupby\u001b[0m\u001b[0;34m(\u001b[0m\u001b[0mby\u001b[0m\u001b[0;34m=\u001b[0m\u001b[0;34m[\u001b[0m\u001b[0;34m'product_category'\u001b[0m\u001b[0;34m,\u001b[0m\u001b[0;34m'product_id_subcategory'\u001b[0m\u001b[0;34m]\u001b[0m\u001b[0;34m)\u001b[0m\u001b[0;34m.\u001b[0m\u001b[0mcount\u001b[0m\u001b[0;34m(\u001b[0m\u001b[0;34m)\u001b[0m\u001b[0;34m.\u001b[0m\u001b[0mreset_index\u001b[0m\u001b[0;34m(\u001b[0m\u001b[0;34m)\u001b[0m\u001b[0;34m\u001b[0m\u001b[0;34m\u001b[0m\u001b[0m\n\u001b[0m\u001b[1;32m     18\u001b[0m \u001b[0;34m\u001b[0m\u001b[0m\n\u001b[1;32m     19\u001b[0m \u001b[0mtotal_sells_by_categories\u001b[0m\u001b[0;34m=\u001b[0m \u001b[0mtotal_sells_by_categories\u001b[0m\u001b[0;34m.\u001b[0m\u001b[0msort_values\u001b[0m\u001b[0;34m(\u001b[0m\u001b[0mby\u001b[0m\u001b[0;34m=\u001b[0m\u001b[0;34m\"product_category\"\u001b[0m\u001b[0;34m,\u001b[0m \u001b[0mascending\u001b[0m\u001b[0;34m=\u001b[0m\u001b[0;32mTrue\u001b[0m\u001b[0;34m,\u001b[0m \u001b[0minplace\u001b[0m\u001b[0;34m=\u001b[0m\u001b[0;32mFalse\u001b[0m\u001b[0;34m)\u001b[0m\u001b[0;34m\u001b[0m\u001b[0;34m\u001b[0m\u001b[0m\n",
      "\u001b[0;32m/mnt/c/Users/sebas/cours/Master2/Analyse-Reseau/projetDarkWeb/DarkWeb/linuxvenv/lib/python3.9/site-packages/pandas/core/frame.py\u001b[0m in \u001b[0;36m__getitem__\u001b[0;34m(self, key)\u001b[0m\n\u001b[1;32m   2904\u001b[0m             \u001b[0;32mif\u001b[0m \u001b[0mself\u001b[0m\u001b[0;34m.\u001b[0m\u001b[0mcolumns\u001b[0m\u001b[0;34m.\u001b[0m\u001b[0mnlevels\u001b[0m \u001b[0;34m>\u001b[0m \u001b[0;36m1\u001b[0m\u001b[0;34m:\u001b[0m\u001b[0;34m\u001b[0m\u001b[0;34m\u001b[0m\u001b[0m\n\u001b[1;32m   2905\u001b[0m                 \u001b[0;32mreturn\u001b[0m \u001b[0mself\u001b[0m\u001b[0;34m.\u001b[0m\u001b[0m_getitem_multilevel\u001b[0m\u001b[0;34m(\u001b[0m\u001b[0mkey\u001b[0m\u001b[0;34m)\u001b[0m\u001b[0;34m\u001b[0m\u001b[0;34m\u001b[0m\u001b[0m\n\u001b[0;32m-> 2906\u001b[0;31m             \u001b[0mindexer\u001b[0m \u001b[0;34m=\u001b[0m \u001b[0mself\u001b[0m\u001b[0;34m.\u001b[0m\u001b[0mcolumns\u001b[0m\u001b[0;34m.\u001b[0m\u001b[0mget_loc\u001b[0m\u001b[0;34m(\u001b[0m\u001b[0mkey\u001b[0m\u001b[0;34m)\u001b[0m\u001b[0;34m\u001b[0m\u001b[0;34m\u001b[0m\u001b[0m\n\u001b[0m\u001b[1;32m   2907\u001b[0m             \u001b[0;32mif\u001b[0m \u001b[0mis_integer\u001b[0m\u001b[0;34m(\u001b[0m\u001b[0mindexer\u001b[0m\u001b[0;34m)\u001b[0m\u001b[0;34m:\u001b[0m\u001b[0;34m\u001b[0m\u001b[0;34m\u001b[0m\u001b[0m\n\u001b[1;32m   2908\u001b[0m                 \u001b[0mindexer\u001b[0m \u001b[0;34m=\u001b[0m \u001b[0;34m[\u001b[0m\u001b[0mindexer\u001b[0m\u001b[0;34m]\u001b[0m\u001b[0;34m\u001b[0m\u001b[0;34m\u001b[0m\u001b[0m\n",
      "\u001b[0;32m/mnt/c/Users/sebas/cours/Master2/Analyse-Reseau/projetDarkWeb/DarkWeb/linuxvenv/lib/python3.9/site-packages/pandas/core/indexes/base.py\u001b[0m in \u001b[0;36mget_loc\u001b[0;34m(self, key, method, tolerance)\u001b[0m\n\u001b[1;32m   2898\u001b[0m                 \u001b[0;32mreturn\u001b[0m \u001b[0mself\u001b[0m\u001b[0;34m.\u001b[0m\u001b[0m_engine\u001b[0m\u001b[0;34m.\u001b[0m\u001b[0mget_loc\u001b[0m\u001b[0;34m(\u001b[0m\u001b[0mcasted_key\u001b[0m\u001b[0;34m)\u001b[0m\u001b[0;34m\u001b[0m\u001b[0;34m\u001b[0m\u001b[0m\n\u001b[1;32m   2899\u001b[0m             \u001b[0;32mexcept\u001b[0m \u001b[0mKeyError\u001b[0m \u001b[0;32mas\u001b[0m \u001b[0merr\u001b[0m\u001b[0;34m:\u001b[0m\u001b[0;34m\u001b[0m\u001b[0;34m\u001b[0m\u001b[0m\n\u001b[0;32m-> 2900\u001b[0;31m                 \u001b[0;32mraise\u001b[0m \u001b[0mKeyError\u001b[0m\u001b[0;34m(\u001b[0m\u001b[0mkey\u001b[0m\u001b[0;34m)\u001b[0m \u001b[0;32mfrom\u001b[0m \u001b[0merr\u001b[0m\u001b[0;34m\u001b[0m\u001b[0;34m\u001b[0m\u001b[0m\n\u001b[0m\u001b[1;32m   2901\u001b[0m \u001b[0;34m\u001b[0m\u001b[0m\n\u001b[1;32m   2902\u001b[0m         \u001b[0;32mif\u001b[0m \u001b[0mtolerance\u001b[0m \u001b[0;32mis\u001b[0m \u001b[0;32mnot\u001b[0m \u001b[0;32mNone\u001b[0m\u001b[0;34m:\u001b[0m\u001b[0;34m\u001b[0m\u001b[0;34m\u001b[0m\u001b[0m\n",
      "\u001b[0;31mKeyError\u001b[0m: ('product_category', 'product_id_subcategory', 'USD')"
     ]
    }
   ],
   "source": [
    "product_list.head()\n",
    "\n",
    "def clean_sub_cat_column(text):\n",
    "    clean = str(text).replace(' ','')\n",
    "    clean=re.match('(Item#.\\\\d+-)(.+)(-.*)',str(clean))\n",
    "    clean=re.match('(.*)\\\\/(.*)',clean.groups()[1])\n",
    "    return clean.groups()[0]\n",
    "\n",
    "\n",
    "column_to_drop = ['product_url','product_views_sales_quantityleft','vendor','vendor_url','BTC','file','crawling_date','product_title']\n",
    "all_sub_categories= clean_product_list.dropna()\n",
    "\n",
    "\n",
    "all_sub_categories['product_id_subcategory'] = all_sub_categories['product_id_subcategory'].apply(clean_sub_cat_column)\n",
    "\n",
    "total_usd_by_sub_categories = all_sub_categories.groupby(by=['product_category','product_id_subcategory']).agg({'USD':'sum'}).reset_index()\n",
    "total_sells_by_sub_categories = all_sub_categories[['product_category','product_id_subcategory','USD']].groupby(by=['product_category','product_id_subcategory']).count().reset_index()\n",
    "\n",
    "total_sells_by_categories= total_sells_by_categories.sort_values(by=\"product_category\", ascending=True, inplace=False)\n",
    "total_usd_by_sub_categories=total_usd_by_sub_categories.sort_values(by=\"product_category\", ascending=True, inplace=False)\n",
    "\n",
    "total_sells_by_sub_categories.to_csv(r'../data/total_sells_by_sub_categories.csv', index = False)\n",
    "total_usd_by_sub_categories.to_csv(r'../data/total_usd_by_sub_categories.csv', index = False)\n",
    "\n",
    "print(total_usd_by_sub_categories)\n",
    "print(total_sells_by_sub_categories)"
   ]
  },
  {
   "cell_type": "code",
   "execution_count": null,
   "metadata": {},
   "outputs": [],
   "source": []
  }
 ]
}